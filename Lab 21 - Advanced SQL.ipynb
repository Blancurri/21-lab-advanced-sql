{
 "cells": [
  {
   "cell_type": "code",
   "execution_count": 6,
   "metadata": {
    "ExecuteTime": {
     "end_time": "2020-08-24T16:53:39.249670Z",
     "start_time": "2020-08-24T16:53:39.247248Z"
    }
   },
   "outputs": [
    {
     "name": "stdout",
     "output_type": "stream",
     "text": [
      "The sql extension is already loaded. To reload it, use:\n",
      "  %reload_ext sql\n"
     ]
    }
   ],
   "source": [
    "%load_ext sql"
   ]
  },
  {
   "cell_type": "code",
   "execution_count": 7,
   "metadata": {
    "ExecuteTime": {
     "end_time": "2020-08-24T16:53:39.558605Z",
     "start_time": "2020-08-24T16:53:39.555940Z"
    }
   },
   "outputs": [],
   "source": [
    "%sql sqlite:////Users/blancurri/Desktop/Formació/IronHack/Docs_varios/publications.db"
   ]
  },
  {
   "cell_type": "markdown",
   "metadata": {
    "ExecuteTime": {
     "end_time": "2020-08-23T20:27:39.590403Z",
     "start_time": "2020-08-23T20:27:39.588449Z"
    }
   },
   "source": [
    "### Previously on Lab 20 - Bonus challenge:"
   ]
  },
  {
   "cell_type": "markdown",
   "metadata": {},
   "source": [
    "Who are the top 3 most profiting authors?"
   ]
  },
  {
   "cell_type": "markdown",
   "metadata": {},
   "source": [
    "Important to keep in mind:\n",
    "\n",
    "- In table `sales`, a title can appear several times. The royalties need to be calculated for each sale.\n",
    "\n",
    "- Despite a title can have multiple `sales` records, the advance must be calculated only once for each title.\n",
    "\n",
    "- In your eventual solution, you need to sum up the following profits for each individual author:\n",
    "    * All advances which is calculated exactly once for each title.\n",
    "    * All royalties in each sale.\n",
    "    \n",
    "So you will not be able to achieve the goal with a single SELECT query:\n",
    "\n",
    "1. Calculate the royalty of each sale for each author.\n",
    "\n",
    "2. Using the output from Step 1 as a sub-table, aggregate the total royalties for each title for each author.\n",
    "\n",
    "3. Using the output from Step 2 as a sub-table, calculate the total profits of each author by aggregating the advances and total royalties of each title.\n",
    "\n",
    "Please include the SELECT queries of each step so that your TA can review your problem-solving process."
   ]
  },
  {
   "cell_type": "code",
   "execution_count": null,
   "metadata": {},
   "outputs": [],
   "source": [
    "- En la tabla ventas, un título puede aparecer muchas veces. Los royalties se tienen que calcular por cada venta\n",
    "- Aunque un título puede tener muchas ventas, el adelanto se tiene que calcular sólo una vez por título\n",
    "- En la solución, suma los siguientes beneficios para cada autor:\n",
    "    - Los adelantos que se calculan exactamente una vez por cada título\n",
    "    - Todos los royalties por cada venta\n",
    "    \n",
    "- Calcula el royalty por cada venta de cada autor\n",
    "- Usando el output del Step 1 como una subtabla, agrega el total de los royalties por cada autor y título\n",
    "- Usando el output del Step 2 como una subtabla, calcula los beneficios totales de cada autor agregando los adelantos y el total de royalties para cada título"
   ]
  },
  {
   "cell_type": "markdown",
   "metadata": {},
   "source": [
    "### Challenge 1 - Most Profiting Authors"
   ]
  },
  {
   "cell_type": "markdown",
   "metadata": {},
   "source": [
    "Step 1: Calculate the royalties of each sales for each author\n",
    "\n",
    "Paso 1: Calcula los royalties de cada venta por cada autor\n",
    "\n",
    "Write a SELECT query to obtain the following output:\n",
    "\n",
    "* Title ID\n",
    "* Author ID\n",
    "* Royalty of each sale for each author\n",
    "    * The formula is:\n",
    "        ```\n",
    "        sales_royalty = titles.price * sales.qty * titles.royalty / 100 * titleauthor.royaltyper / 100\n",
    "        ```\n",
    "    * Note that `titles.royalty` and `titleauthor.royaltyper` are divided by 100 respectively because they are percentage numbers instead of floats.\n",
    "\n",
    "In the output of this step, each title may appear more than once for each author. This is because a title can have more than one sales."
   ]
  },
  {
   "cell_type": "code",
   "execution_count": 15,
   "metadata": {
    "ExecuteTime": {
     "end_time": "2020-08-24T17:24:19.022193Z",
     "start_time": "2020-08-24T17:24:19.013147Z"
    }
   },
   "outputs": [
    {
     "name": "stdout",
     "output_type": "stream",
     "text": [
      " * sqlite:////Users/blancurri/Desktop/Formació/IronHack/Docs_varios/publications.db\n",
      "Done.\n"
     ]
    },
    {
     "data": {
      "text/html": [
       "<table>\n",
       "    <tr>\n",
       "        <th>title</th>\n",
       "        <th>TITLE_ID</th>\n",
       "        <th>AUTHOR_ID</th>\n",
       "        <th>SALES_ROYALTY</th>\n",
       "    </tr>\n",
       "    <tr>\n",
       "        <td>Prolonged Data Deprivation: Four Case Studies</td>\n",
       "        <td>PS3333</td>\n",
       "        <td>172-32-1176</td>\n",
       "        <td>29.99</td>\n",
       "    </tr>\n",
       "    <tr>\n",
       "        <td>The Busy Executive&#x27;s Database Guide</td>\n",
       "        <td>BU1032</td>\n",
       "        <td>213-46-8915</td>\n",
       "        <td>4.0</td>\n",
       "    </tr>\n",
       "    <tr>\n",
       "        <td>The Busy Executive&#x27;s Database Guide</td>\n",
       "        <td>BU1032</td>\n",
       "        <td>213-46-8915</td>\n",
       "        <td>8.0</td>\n",
       "    </tr>\n",
       "    <tr>\n",
       "        <td>You Can Combat Computer Stress!</td>\n",
       "        <td>BU2075</td>\n",
       "        <td>213-46-8915</td>\n",
       "        <td>25.12</td>\n",
       "    </tr>\n",
       "    <tr>\n",
       "        <td>But Is It User Friendly?</td>\n",
       "        <td>PC1035</td>\n",
       "        <td>238-95-7766</td>\n",
       "        <td>110.16</td>\n",
       "    </tr>\n",
       "    <tr>\n",
       "        <td>Cooking with Computers: Surreptitious Balance Sheets</td>\n",
       "        <td>BU1111</td>\n",
       "        <td>267-41-2394</td>\n",
       "        <td>11.95</td>\n",
       "    </tr>\n",
       "    <tr>\n",
       "        <td>Sushi, Anyone?</td>\n",
       "        <td>TC7777</td>\n",
       "        <td>267-41-2394</td>\n",
       "        <td>8.99</td>\n",
       "    </tr>\n",
       "    <tr>\n",
       "        <td>Straight Talk About Computers</td>\n",
       "        <td>BU7832</td>\n",
       "        <td>274-80-9391</td>\n",
       "        <td>29.99</td>\n",
       "    </tr>\n",
       "    <tr>\n",
       "        <td>The Busy Executive&#x27;s Database Guide</td>\n",
       "        <td>BU1032</td>\n",
       "        <td>409-56-7008</td>\n",
       "        <td>6.0</td>\n",
       "    </tr>\n",
       "    <tr>\n",
       "        <td>The Busy Executive&#x27;s Database Guide</td>\n",
       "        <td>BU1032</td>\n",
       "        <td>409-56-7008</td>\n",
       "        <td>11.99</td>\n",
       "    </tr>\n",
       "    <tr>\n",
       "        <td>Secrets of Silicon Valley</td>\n",
       "        <td>PC8888</td>\n",
       "        <td>427-17-2319</td>\n",
       "        <td>50.0</td>\n",
       "    </tr>\n",
       "    <tr>\n",
       "        <td>Sushi, Anyone?</td>\n",
       "        <td>TC7777</td>\n",
       "        <td>472-27-2349</td>\n",
       "        <td>8.99</td>\n",
       "    </tr>\n",
       "    <tr>\n",
       "        <td>Emotional Security: A New Algorithm</td>\n",
       "        <td>PS7777</td>\n",
       "        <td>486-29-1786</td>\n",
       "        <td>19.98</td>\n",
       "    </tr>\n",
       "    <tr>\n",
       "        <td>Fifty Years in Buckingham Palace Kitchens</td>\n",
       "        <td>TC4203</td>\n",
       "        <td>648-92-1872</td>\n",
       "        <td>33.46</td>\n",
       "    </tr>\n",
       "    <tr>\n",
       "        <td>Sushi, Anyone?</td>\n",
       "        <td>TC7777</td>\n",
       "        <td>672-71-3249</td>\n",
       "        <td>11.99</td>\n",
       "    </tr>\n",
       "    <tr>\n",
       "        <td>Silicon Valley Gastronomic Treats</td>\n",
       "        <td>MC2222</td>\n",
       "        <td>712-45-1867</td>\n",
       "        <td>23.99</td>\n",
       "    </tr>\n",
       "    <tr>\n",
       "        <td>The Gourmet Microwave</td>\n",
       "        <td>MC3021</td>\n",
       "        <td>722-51-5454</td>\n",
       "        <td>13.46</td>\n",
       "    </tr>\n",
       "    <tr>\n",
       "        <td>The Gourmet Microwave</td>\n",
       "        <td>MC3021</td>\n",
       "        <td>722-51-5454</td>\n",
       "        <td>8.07</td>\n",
       "    </tr>\n",
       "    <tr>\n",
       "        <td>Cooking with Computers: Surreptitious Balance Sheets</td>\n",
       "        <td>BU1111</td>\n",
       "        <td>724-80-9391</td>\n",
       "        <td>17.93</td>\n",
       "    </tr>\n",
       "    <tr>\n",
       "        <td>Computer Phobic AND Non-Phobic Individuals: Behavior Variations</td>\n",
       "        <td>PS1372</td>\n",
       "        <td>724-80-9391</td>\n",
       "        <td>10.8</td>\n",
       "    </tr>\n",
       "    <tr>\n",
       "        <td>Computer Phobic AND Non-Phobic Individuals: Behavior Variations</td>\n",
       "        <td>PS1372</td>\n",
       "        <td>756-30-7391</td>\n",
       "        <td>32.39</td>\n",
       "    </tr>\n",
       "    <tr>\n",
       "        <td>Onions, Leeks, and Garlic: Cooking Secrets of the Mediterranean</td>\n",
       "        <td>TC3218</td>\n",
       "        <td>807-91-6654</td>\n",
       "        <td>83.8</td>\n",
       "    </tr>\n",
       "    <tr>\n",
       "        <td>Secrets of Silicon Valley</td>\n",
       "        <td>PC8888</td>\n",
       "        <td>846-92-7186</td>\n",
       "        <td>50.0</td>\n",
       "    </tr>\n",
       "    <tr>\n",
       "        <td>The Gourmet Microwave</td>\n",
       "        <td>MC3021</td>\n",
       "        <td>899-46-2035</td>\n",
       "        <td>4.49</td>\n",
       "    </tr>\n",
       "    <tr>\n",
       "        <td>The Gourmet Microwave</td>\n",
       "        <td>MC3021</td>\n",
       "        <td>899-46-2035</td>\n",
       "        <td>2.69</td>\n",
       "    </tr>\n",
       "    <tr>\n",
       "        <td>Is Anger the Enemy?</td>\n",
       "        <td>PS2091</td>\n",
       "        <td>899-46-2035</td>\n",
       "        <td>1.97</td>\n",
       "    </tr>\n",
       "    <tr>\n",
       "        <td>Is Anger the Enemy?</td>\n",
       "        <td>PS2091</td>\n",
       "        <td>899-46-2035</td>\n",
       "        <td>49.28</td>\n",
       "    </tr>\n",
       "    <tr>\n",
       "        <td>Is Anger the Enemy?</td>\n",
       "        <td>PS2091</td>\n",
       "        <td>899-46-2035</td>\n",
       "        <td>6.57</td>\n",
       "    </tr>\n",
       "    <tr>\n",
       "        <td>Is Anger the Enemy?</td>\n",
       "        <td>PS2091</td>\n",
       "        <td>899-46-2035</td>\n",
       "        <td>13.14</td>\n",
       "    </tr>\n",
       "    <tr>\n",
       "        <td>Is Anger the Enemy?</td>\n",
       "        <td>PS2091</td>\n",
       "        <td>998-72-3567</td>\n",
       "        <td>1.97</td>\n",
       "    </tr>\n",
       "    <tr>\n",
       "        <td>Is Anger the Enemy?</td>\n",
       "        <td>PS2091</td>\n",
       "        <td>998-72-3567</td>\n",
       "        <td>49.28</td>\n",
       "    </tr>\n",
       "    <tr>\n",
       "        <td>Is Anger the Enemy?</td>\n",
       "        <td>PS2091</td>\n",
       "        <td>998-72-3567</td>\n",
       "        <td>6.57</td>\n",
       "    </tr>\n",
       "    <tr>\n",
       "        <td>Is Anger the Enemy?</td>\n",
       "        <td>PS2091</td>\n",
       "        <td>998-72-3567</td>\n",
       "        <td>13.14</td>\n",
       "    </tr>\n",
       "    <tr>\n",
       "        <td>Life Without Fear</td>\n",
       "        <td>PS2106</td>\n",
       "        <td>998-72-3567</td>\n",
       "        <td>17.0</td>\n",
       "    </tr>\n",
       "</table>"
      ],
      "text/plain": [
       "[('Prolonged Data Deprivation: Four Case Studies', 'PS3333', '172-32-1176', 29.99),\n",
       " (\"The Busy Executive's Database Guide\", 'BU1032', '213-46-8915', 4.0),\n",
       " (\"The Busy Executive's Database Guide\", 'BU1032', '213-46-8915', 8.0),\n",
       " ('You Can Combat Computer Stress!', 'BU2075', '213-46-8915', 25.12),\n",
       " ('But Is It User Friendly?', 'PC1035', '238-95-7766', 110.16),\n",
       " ('Cooking with Computers: Surreptitious Balance Sheets', 'BU1111', '267-41-2394', 11.95),\n",
       " ('Sushi, Anyone?', 'TC7777', '267-41-2394', 8.99),\n",
       " ('Straight Talk About Computers', 'BU7832', '274-80-9391', 29.99),\n",
       " (\"The Busy Executive's Database Guide\", 'BU1032', '409-56-7008', 6.0),\n",
       " (\"The Busy Executive's Database Guide\", 'BU1032', '409-56-7008', 11.99),\n",
       " ('Secrets of Silicon Valley', 'PC8888', '427-17-2319', 50.0),\n",
       " ('Sushi, Anyone?', 'TC7777', '472-27-2349', 8.99),\n",
       " ('Emotional Security: A New Algorithm', 'PS7777', '486-29-1786', 19.98),\n",
       " ('Fifty Years in Buckingham Palace Kitchens', 'TC4203', '648-92-1872', 33.46),\n",
       " ('Sushi, Anyone?', 'TC7777', '672-71-3249', 11.99),\n",
       " ('Silicon Valley Gastronomic Treats', 'MC2222', '712-45-1867', 23.99),\n",
       " ('The Gourmet Microwave', 'MC3021', '722-51-5454', 13.46),\n",
       " ('The Gourmet Microwave', 'MC3021', '722-51-5454', 8.07),\n",
       " ('Cooking with Computers: Surreptitious Balance Sheets', 'BU1111', '724-80-9391', 17.93),\n",
       " ('Computer Phobic AND Non-Phobic Individuals: Behavior Variations', 'PS1372', '724-80-9391', 10.8),\n",
       " ('Computer Phobic AND Non-Phobic Individuals: Behavior Variations', 'PS1372', '756-30-7391', 32.39),\n",
       " ('Onions, Leeks, and Garlic: Cooking Secrets of the Mediterranean', 'TC3218', '807-91-6654', 83.8),\n",
       " ('Secrets of Silicon Valley', 'PC8888', '846-92-7186', 50.0),\n",
       " ('The Gourmet Microwave', 'MC3021', '899-46-2035', 4.49),\n",
       " ('The Gourmet Microwave', 'MC3021', '899-46-2035', 2.69),\n",
       " ('Is Anger the Enemy?', 'PS2091', '899-46-2035', 1.97),\n",
       " ('Is Anger the Enemy?', 'PS2091', '899-46-2035', 49.28),\n",
       " ('Is Anger the Enemy?', 'PS2091', '899-46-2035', 6.57),\n",
       " ('Is Anger the Enemy?', 'PS2091', '899-46-2035', 13.14),\n",
       " ('Is Anger the Enemy?', 'PS2091', '998-72-3567', 1.97),\n",
       " ('Is Anger the Enemy?', 'PS2091', '998-72-3567', 49.28),\n",
       " ('Is Anger the Enemy?', 'PS2091', '998-72-3567', 6.57),\n",
       " ('Is Anger the Enemy?', 'PS2091', '998-72-3567', 13.14),\n",
       " ('Life Without Fear', 'PS2106', '998-72-3567', 17.0)]"
      ]
     },
     "execution_count": 15,
     "metadata": {},
     "output_type": "execute_result"
    }
   ],
   "source": [
    "%%sql\n",
    "select title, titles.title_id as TITLE_ID, au_id as AUTHOR_ID, \n",
    "round(titles.price * sales.qty * titles.royalty / 100 * titleauthor.royaltyper / 100, 2) as SALES_ROYALTY\n",
    "from titleauthor join titles on titleauthor.title_id = titles.title_id\n",
    "                join sales on titles.title_id = sales.title_id"
   ]
  },
  {
   "cell_type": "markdown",
   "metadata": {
    "ExecuteTime": {
     "end_time": "2020-08-23T20:31:10.059621Z",
     "start_time": "2020-08-23T20:31:10.055141Z"
    }
   },
   "source": [
    "Step 2: Aggregate the total royalties for each title for each author\n",
    "\n",
    "Using the output from Step 1, write a query to obtain the following output:\n",
    "\n",
    "* Title ID\n",
    "* Author ID\n",
    "* Aggregated royalties of each title for each author\n",
    "    * Hint: use the *SUM* subquery and group by both `au_id` and `title_id`\n",
    "\n",
    "In the output of this step, each title should appear only once for each author."
   ]
  },
  {
   "cell_type": "code",
   "execution_count": 19,
   "metadata": {
    "ExecuteTime": {
     "end_time": "2020-08-24T17:44:49.053865Z",
     "start_time": "2020-08-24T17:44:49.046613Z"
    }
   },
   "outputs": [
    {
     "name": "stdout",
     "output_type": "stream",
     "text": [
      " * sqlite:////Users/blancurri/Desktop/Formació/IronHack/Docs_varios/publications.db\n",
      "Done.\n"
     ]
    },
    {
     "data": {
      "text/html": [
       "<table>\n",
       "    <tr>\n",
       "        <th>title</th>\n",
       "        <th>TITLE_ID</th>\n",
       "        <th>AUTHOR_ID</th>\n",
       "        <th>SALES_ROYALTY</th>\n",
       "    </tr>\n",
       "    <tr>\n",
       "        <td>The Busy Executive&#x27;s Database Guide</td>\n",
       "        <td>BU1032</td>\n",
       "        <td>213-46-8915</td>\n",
       "        <td>12.0</td>\n",
       "    </tr>\n",
       "    <tr>\n",
       "        <td>The Busy Executive&#x27;s Database Guide</td>\n",
       "        <td>BU1032</td>\n",
       "        <td>409-56-7008</td>\n",
       "        <td>17.99</td>\n",
       "    </tr>\n",
       "    <tr>\n",
       "        <td>Cooking with Computers: Surreptitious Balance Sheets</td>\n",
       "        <td>BU1111</td>\n",
       "        <td>267-41-2394</td>\n",
       "        <td>11.95</td>\n",
       "    </tr>\n",
       "    <tr>\n",
       "        <td>Cooking with Computers: Surreptitious Balance Sheets</td>\n",
       "        <td>BU1111</td>\n",
       "        <td>724-80-9391</td>\n",
       "        <td>17.93</td>\n",
       "    </tr>\n",
       "    <tr>\n",
       "        <td>You Can Combat Computer Stress!</td>\n",
       "        <td>BU2075</td>\n",
       "        <td>213-46-8915</td>\n",
       "        <td>25.12</td>\n",
       "    </tr>\n",
       "    <tr>\n",
       "        <td>Straight Talk About Computers</td>\n",
       "        <td>BU7832</td>\n",
       "        <td>274-80-9391</td>\n",
       "        <td>29.99</td>\n",
       "    </tr>\n",
       "    <tr>\n",
       "        <td>Silicon Valley Gastronomic Treats</td>\n",
       "        <td>MC2222</td>\n",
       "        <td>712-45-1867</td>\n",
       "        <td>23.99</td>\n",
       "    </tr>\n",
       "    <tr>\n",
       "        <td>The Gourmet Microwave</td>\n",
       "        <td>MC3021</td>\n",
       "        <td>722-51-5454</td>\n",
       "        <td>21.53</td>\n",
       "    </tr>\n",
       "    <tr>\n",
       "        <td>The Gourmet Microwave</td>\n",
       "        <td>MC3021</td>\n",
       "        <td>899-46-2035</td>\n",
       "        <td>7.18</td>\n",
       "    </tr>\n",
       "    <tr>\n",
       "        <td>But Is It User Friendly?</td>\n",
       "        <td>PC1035</td>\n",
       "        <td>238-95-7766</td>\n",
       "        <td>110.16</td>\n",
       "    </tr>\n",
       "    <tr>\n",
       "        <td>Secrets of Silicon Valley</td>\n",
       "        <td>PC8888</td>\n",
       "        <td>427-17-2319</td>\n",
       "        <td>50.0</td>\n",
       "    </tr>\n",
       "    <tr>\n",
       "        <td>Secrets of Silicon Valley</td>\n",
       "        <td>PC8888</td>\n",
       "        <td>846-92-7186</td>\n",
       "        <td>50.0</td>\n",
       "    </tr>\n",
       "    <tr>\n",
       "        <td>Computer Phobic AND Non-Phobic Individuals: Behavior Variations</td>\n",
       "        <td>PS1372</td>\n",
       "        <td>724-80-9391</td>\n",
       "        <td>10.8</td>\n",
       "    </tr>\n",
       "    <tr>\n",
       "        <td>Computer Phobic AND Non-Phobic Individuals: Behavior Variations</td>\n",
       "        <td>PS1372</td>\n",
       "        <td>756-30-7391</td>\n",
       "        <td>32.39</td>\n",
       "    </tr>\n",
       "    <tr>\n",
       "        <td>Is Anger the Enemy?</td>\n",
       "        <td>PS2091</td>\n",
       "        <td>899-46-2035</td>\n",
       "        <td>70.96</td>\n",
       "    </tr>\n",
       "    <tr>\n",
       "        <td>Is Anger the Enemy?</td>\n",
       "        <td>PS2091</td>\n",
       "        <td>998-72-3567</td>\n",
       "        <td>70.96</td>\n",
       "    </tr>\n",
       "    <tr>\n",
       "        <td>Life Without Fear</td>\n",
       "        <td>PS2106</td>\n",
       "        <td>998-72-3567</td>\n",
       "        <td>17.0</td>\n",
       "    </tr>\n",
       "    <tr>\n",
       "        <td>Prolonged Data Deprivation: Four Case Studies</td>\n",
       "        <td>PS3333</td>\n",
       "        <td>172-32-1176</td>\n",
       "        <td>29.99</td>\n",
       "    </tr>\n",
       "    <tr>\n",
       "        <td>Emotional Security: A New Algorithm</td>\n",
       "        <td>PS7777</td>\n",
       "        <td>486-29-1786</td>\n",
       "        <td>19.98</td>\n",
       "    </tr>\n",
       "    <tr>\n",
       "        <td>Onions, Leeks, and Garlic: Cooking Secrets of the Mediterranean</td>\n",
       "        <td>TC3218</td>\n",
       "        <td>807-91-6654</td>\n",
       "        <td>83.8</td>\n",
       "    </tr>\n",
       "    <tr>\n",
       "        <td>Fifty Years in Buckingham Palace Kitchens</td>\n",
       "        <td>TC4203</td>\n",
       "        <td>648-92-1872</td>\n",
       "        <td>33.46</td>\n",
       "    </tr>\n",
       "    <tr>\n",
       "        <td>Sushi, Anyone?</td>\n",
       "        <td>TC7777</td>\n",
       "        <td>267-41-2394</td>\n",
       "        <td>8.99</td>\n",
       "    </tr>\n",
       "    <tr>\n",
       "        <td>Sushi, Anyone?</td>\n",
       "        <td>TC7777</td>\n",
       "        <td>472-27-2349</td>\n",
       "        <td>8.99</td>\n",
       "    </tr>\n",
       "    <tr>\n",
       "        <td>Sushi, Anyone?</td>\n",
       "        <td>TC7777</td>\n",
       "        <td>672-71-3249</td>\n",
       "        <td>11.99</td>\n",
       "    </tr>\n",
       "</table>"
      ],
      "text/plain": [
       "[(\"The Busy Executive's Database Guide\", 'BU1032', '213-46-8915', 12.0),\n",
       " (\"The Busy Executive's Database Guide\", 'BU1032', '409-56-7008', 17.99),\n",
       " ('Cooking with Computers: Surreptitious Balance Sheets', 'BU1111', '267-41-2394', 11.95),\n",
       " ('Cooking with Computers: Surreptitious Balance Sheets', 'BU1111', '724-80-9391', 17.93),\n",
       " ('You Can Combat Computer Stress!', 'BU2075', '213-46-8915', 25.12),\n",
       " ('Straight Talk About Computers', 'BU7832', '274-80-9391', 29.99),\n",
       " ('Silicon Valley Gastronomic Treats', 'MC2222', '712-45-1867', 23.99),\n",
       " ('The Gourmet Microwave', 'MC3021', '722-51-5454', 21.53),\n",
       " ('The Gourmet Microwave', 'MC3021', '899-46-2035', 7.18),\n",
       " ('But Is It User Friendly?', 'PC1035', '238-95-7766', 110.16),\n",
       " ('Secrets of Silicon Valley', 'PC8888', '427-17-2319', 50.0),\n",
       " ('Secrets of Silicon Valley', 'PC8888', '846-92-7186', 50.0),\n",
       " ('Computer Phobic AND Non-Phobic Individuals: Behavior Variations', 'PS1372', '724-80-9391', 10.8),\n",
       " ('Computer Phobic AND Non-Phobic Individuals: Behavior Variations', 'PS1372', '756-30-7391', 32.39),\n",
       " ('Is Anger the Enemy?', 'PS2091', '899-46-2035', 70.96),\n",
       " ('Is Anger the Enemy?', 'PS2091', '998-72-3567', 70.96),\n",
       " ('Life Without Fear', 'PS2106', '998-72-3567', 17.0),\n",
       " ('Prolonged Data Deprivation: Four Case Studies', 'PS3333', '172-32-1176', 29.99),\n",
       " ('Emotional Security: A New Algorithm', 'PS7777', '486-29-1786', 19.98),\n",
       " ('Onions, Leeks, and Garlic: Cooking Secrets of the Mediterranean', 'TC3218', '807-91-6654', 83.8),\n",
       " ('Fifty Years in Buckingham Palace Kitchens', 'TC4203', '648-92-1872', 33.46),\n",
       " ('Sushi, Anyone?', 'TC7777', '267-41-2394', 8.99),\n",
       " ('Sushi, Anyone?', 'TC7777', '472-27-2349', 8.99),\n",
       " ('Sushi, Anyone?', 'TC7777', '672-71-3249', 11.99)]"
      ]
     },
     "execution_count": 19,
     "metadata": {},
     "output_type": "execute_result"
    }
   ],
   "source": [
    "%%sql\n",
    "select title, titles.title_id as TITLE_ID, au_id as AUTHOR_ID, \n",
    "round(sum(round(titles.price * sales.qty * titles.royalty / 100 * titleauthor.royaltyper / 100, 2)),2) as SALES_ROYALTY\n",
    "from titleauthor join titles on titleauthor.title_id = titles.title_id\n",
    "                join sales on titles.title_id = sales.title_id\n",
    "group by titles.title_id, au_id"
   ]
  },
  {
   "cell_type": "markdown",
   "metadata": {},
   "source": [
    "Step 3: Calculate the total profits of each author\n",
    "\n",
    "Now that each title has exactly one row for each author where the advance and royalties are available, we are ready to obtain the eventual output. Using the output from Step 2, write a query to obtain the following output:\n",
    "\n",
    "* Author ID\n",
    "* Profits of each author by aggregating the advance and total royalties of each title\n",
    "\n",
    "Sort the output based on a total profits from high to low, and limit the number of rows to 3."
   ]
  },
  {
   "cell_type": "code",
   "execution_count": 21,
   "metadata": {
    "ExecuteTime": {
     "end_time": "2020-08-24T18:46:22.731474Z",
     "start_time": "2020-08-24T18:46:22.726312Z"
    }
   },
   "outputs": [
    {
     "name": "stdout",
     "output_type": "stream",
     "text": [
      " * sqlite:////Users/blancurri/Desktop/Formació/IronHack/Docs_varios/publications.db\n",
      "(sqlite3.OperationalError) ambiguous column name: au_id\n",
      "[SQL: select title, titles.title_id as TITLE_ID, au_id as AUTHOR_ID, \n",
      "round(sum(round(titles.price * sales.qty * titles.royalty / 100 * titleauthor.royaltyper / 100, 2)),2) as SALES_ROYALTY\n",
      "from titleauthor join titles on titleauthor.title_id = titles.title_id\n",
      "                join sales on titles.title_id = sales.title_id\n",
      "                join authors on titleauthor.au_id = authors.au_id\n",
      "group by titles.title_id, au_id]\n",
      "(Background on this error at: http://sqlalche.me/e/e3q8)\n"
     ]
    }
   ],
   "source": [
    "%%sql\n",
    "select title, titles.title_id as TITLE_ID, au_id as AUTHOR_ID, \n",
    "round(sum(round(titles.price * sales.qty * titles.royalty / 100 * titleauthor.royaltyper / 100, 2)),2) as SALES_ROYALTY\n",
    "from titleauthor join titles on titleauthor.title_id = titles.title_id\n",
    "                join sales on titles.title_id = sales.title_id\n",
    "                join authors on titleauthor.au_id = authors.au_id\n",
    "group by titles.title_id, au_id"
   ]
  },
  {
   "cell_type": "markdown",
   "metadata": {},
   "source": [
    "### Challenge 2"
   ]
  },
  {
   "cell_type": "markdown",
   "metadata": {},
   "source": [
    "Elevating from your solution in Challenge 1 , create a table named `most_profiting_authors` to hold the data about the most profiting authors. The table should have 2 columns:\n",
    "\n",
    "* `au_id` - Author ID\n",
    "* `profits` - The profits of the author aggregating the advances and royalties"
   ]
  },
  {
   "cell_type": "code",
   "execution_count": null,
   "metadata": {},
   "outputs": [],
   "source": []
  }
 ],
 "metadata": {
  "kernelspec": {
   "display_name": "Python 3",
   "language": "python",
   "name": "python3"
  },
  "language_info": {
   "codemirror_mode": {
    "name": "ipython",
    "version": 3
   },
   "file_extension": ".py",
   "mimetype": "text/x-python",
   "name": "python",
   "nbconvert_exporter": "python",
   "pygments_lexer": "ipython3",
   "version": "3.7.6"
  },
  "toc": {
   "base_numbering": 1,
   "nav_menu": {},
   "number_sections": true,
   "sideBar": true,
   "skip_h1_title": false,
   "title_cell": "Table of Contents",
   "title_sidebar": "Contents",
   "toc_cell": false,
   "toc_position": {},
   "toc_section_display": true,
   "toc_window_display": false
  },
  "varInspector": {
   "cols": {
    "lenName": 16,
    "lenType": 16,
    "lenVar": 40
   },
   "kernels_config": {
    "python": {
     "delete_cmd_postfix": "",
     "delete_cmd_prefix": "del ",
     "library": "var_list.py",
     "varRefreshCmd": "print(var_dic_list())"
    },
    "r": {
     "delete_cmd_postfix": ") ",
     "delete_cmd_prefix": "rm(",
     "library": "var_list.r",
     "varRefreshCmd": "cat(var_dic_list()) "
    }
   },
   "types_to_exclude": [
    "module",
    "function",
    "builtin_function_or_method",
    "instance",
    "_Feature"
   ],
   "window_display": false
  }
 },
 "nbformat": 4,
 "nbformat_minor": 4
}
